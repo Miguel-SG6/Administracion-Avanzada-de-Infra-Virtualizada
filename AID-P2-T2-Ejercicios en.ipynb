{
  "nbformat": 4,
  "nbformat_minor": 0,
  "metadata": {
    "colab": {
      "name": "Untitled0.ipynb",
      "provenance": [],
      "authorship_tag": "ABX9TyPy3ABPANAf4B2d0PBoG6g+",
      "include_colab_link": true
    },
    "kernelspec": {
      "name": "python3",
      "display_name": "Python 3"
    },
    "language_info": {
      "name": "python"
    }
  },
  "cells": [
    {
      "cell_type": "markdown",
      "metadata": {
        "id": "view-in-github",
        "colab_type": "text"
      },
      "source": [
        "<a href=\"https://colab.research.google.com/github/Miguel-SG6/Administracion-Avanzada-de-Infra-Virtualizada/blob/main/AID-P2-T2-Ejercicios%20en.ipynb\" target=\"_parent\"><img src=\"https://colab.research.google.com/assets/colab-badge.svg\" alt=\"Open In Colab\"/></a>"
      ]
    },
    {
      "cell_type": "code",
      "metadata": {
        "colab": {
          "base_uri": "https://localhost:8080/"
        },
        "id": "leKfLiSed1ZE",
        "outputId": "356c3cde-6f84-4ccb-b43b-d95487e2fae0"
      },
      "source": [
        "#Ejercicio 1\n",
        "#Escribir un programa que acceda a un fichero de internet mediante su url y muestre por pantalla el número de palabras que contiene.\n",
        "def fichero(url):\n",
        "    from urllib import request\n",
        "    from urllib.error import URLError\n",
        "    try:\n",
        "        archivo = request.urlopen(url)\n",
        "    except URLError:\n",
        "        return('Esta URL ' + url + ' No existe')\n",
        "    else:\n",
        "        contenido = archivo.read()\n",
        "        return len(contenido.split())\n",
        "\n",
        "print(fichero('https://www.gutenberg.org/files/2000/2000-0.txt'))\n",
        "print(fichero('https://no-existe.txt'))"
      ],
      "execution_count": 1,
      "outputs": [
        {
          "output_type": "stream",
          "text": [
            "389719\n",
            "Esta URL https://no-existe.txt No existe\n"
          ],
          "name": "stdout"
        }
      ]
    },
    {
      "cell_type": "code",
      "metadata": {
        "colab": {
          "base_uri": "https://localhost:8080/"
        },
        "id": "pn0Xp91deH6i",
        "outputId": "933a30f7-0c04-4d1b-e37e-295d59fd1683"
      },
      "source": [
        "#Ejercicio 2\n",
        "#Escribir un programa que abra el fichero con información sobre el PIB per cápita de los países de la Unión Europea \n",
        "#(url:https://ec.europa.eu/eurostat/estat-navtree-portlet-prod/BulkDownloadListing?file=data/sdg_08_10.tsv.gz&unzip=true), \n",
        "#pregunte por las iniciales de un país y muestre el PIB per cápita de ese país de todos los años disponibles.\n",
        "def pib(url, country='ES'):\n",
        "    from urllib import request\n",
        "    from urllib.error import URLError\n",
        "    try:\n",
        "        fuente = request.urlopen(url)\n",
        "    except URLError:\n",
        "        return('¡La url ' + url + ' no existe!')\n",
        "    else:\n",
        "        dato = fuente.read().decode('utf-8').split('\\n') # Leer los datos y guardar cada línea en una lista\n",
        "        dato = [i.split('\\t') for i in dato] # Dividir cada línea por el tabulador\n",
        "        dato = [list(map(str.strip, i)) for i in dato] # Eliminar espacios en blanco\n",
        "        for i in dato:\n",
        "            i[0] = i[0].split(',')[-1] # Obtener el código del país del primer elemento de la lista\n",
        "        dato[0][0] = 'years'\n",
        "        dato = {i[0]:i[1:] for i in dato}\n",
        "        resultado = {dato['years'][i]:dato[country][i] for i in range(len(dato['years']))}\n",
        "        return resultado\n",
        "\n",
        "country = input('Introduce el código de un país: ')\n",
        "print('Producto Interior Bruto per cápita de', country)\n",
        "print('Año', '\\t', 'PIB')\n",
        "for year, pib2 in pib('https://ec.europa.eu/eurostat/estat-navtree-portlet-prod/BulkDownloadListing?file=data/sdg_08_10.tsv.gz&unzip=true').items():\n",
        "    print(year, '\\t', pib2)"
      ],
      "execution_count": 2,
      "outputs": [
        {
          "output_type": "stream",
          "text": [
            "Introduce el código de un país: 65\n",
            "Producto Interior Bruto per cápita de 65\n",
            "Año \t PIB\n",
            "2000 \t 21460\n",
            "2001 \t 22190\n",
            "2002 \t 22430\n",
            "2003 \t 22680\n",
            "2004 \t 23020\n",
            "2005 \t 23420\n",
            "2006 \t 24000\n",
            "2007 \t 24380\n",
            "2008 \t 24200\n",
            "2009 \t 23100\n",
            "2010 \t 23040\n",
            "2011 \t 22770\n",
            "2012 \t 22080\n",
            "2013 \t 21840\n",
            "2014 \t 22210\n",
            "2015 \t 23080\n",
            "2016 \t 23760\n",
            "2017 \t 24430\n",
            "2018 \t 24910 p\n",
            "2019 \t 25200 p\n",
            "2020 \t 22350 p\n"
          ],
          "name": "stdout"
        }
      ]
    },
    {
      "cell_type": "code",
      "metadata": {
        "id": "Wo2PcEsPehYX"
      },
      "source": [
        "#Ejercicio 3\n",
        "#Escribir un programa para gestionar un listín telefónico con los nombres y los teléfonos de los clientes de una empresa. \n",
        "#El programa incorporarfunciones crear el fichero con el listín si no existe, para consultar el teléfono de un cliente, \n",
        "#añadir el teléfono de un nuevo cliente y eliminar el teléfono de un cliente. El listín debe estar guardado en el fichero de \n",
        "#texto listin.txtdonde el nombre del cliente y su teléfono deben aparecer separados por comas y cada cliente en una línea distinta.\n",
        "\n",
        "def telefono(archivo, cliente):\n",
        "\n",
        "    try: \n",
        "        f = open(archivo, 'r')\n",
        "    except FileNotFoundError:\n",
        "        return('Este es el fichero ' + archivo + ' no existe!\\n')\n",
        "    else:\n",
        "        directory = f.readlines()\n",
        "        f.close()\n",
        "        directory = dict([tuple(line.split(',')) for line in directory])\n",
        "        if cliente in directory:\n",
        "            return directory[cliente]\n",
        "        else:\n",
        "            return('¡el cliente es ' + cliente + ' no existe!\\n')\n",
        "\n",
        "\n",
        "def anadir_telefono(archivo, cliente, telfono):\n",
        "\n",
        "    try: \n",
        "        f = open(archivo, 'a')\n",
        "    except FileNotFoundError:\n",
        "        return('¡EL Fichero es ' + archivo + ' no existe!\\n')\n",
        "    else:\n",
        "        f.write(cliente + ',' + telfono + '\\n')\n",
        "        f.close()\n",
        "        return('ya tiene en sus contacto el telefono.\\n')\n",
        "\n",
        "def remover_cel(archivo, cliente):\n",
        "\n",
        "    try: \n",
        "        f = open(archivo, 'r')\n",
        "    except FileNotFoundError:\n",
        "        return('Es fichero ' + archivo + ' no existe!\\n')\n",
        "    else:\n",
        "        directory = f.readlines()\n",
        "        f.close()\n",
        "        directory = dict([tuple(line.split(',')) for line in directory])\n",
        "        if client in directory:\n",
        "            del directory[cliente]\n",
        "            f = open(archivo, 'w')\n",
        "            for name, telfono in directory.items():\n",
        "                f.write(name + ',' + telfono)\n",
        "            f.close()\n",
        "            return ('¡El cliente se ha borrado!\\n')\n",
        "        else:\n",
        "            return('¡Este contacto ' + cliente + ' no existe!\\n')\n",
        "\n",
        "\n",
        "def crear_directorio(archivo):\n",
        "\n",
        "    import os\n",
        "    if os.path.isfile(archivo):\n",
        "        answer = input('El fichero ' + archivo + ' ya existe. ¿Desea vaciarlo (S/N)? ')\n",
        "        if answer == 'N': \n",
        "            return 'No se ha creado el fichero porque ya existe.\\n'\n",
        "    f = open(archivo, 'w')\n",
        "    f.close()\n",
        "    return 'Se ha creado el fichero.\\n'\n",
        "     \n",
        "\n",
        "def menu():\n",
        "\n",
        "    print('Lista de Contactos')\n",
        "    print(\"\")\n",
        "    print('1 - Consultar un nombre y teléfono')\n",
        "    print('2 - Añadir un nombre y teléfono')\n",
        "    print('3 - Eliminar un nombre y teléfono')\n",
        "    print('4 - vaciar lista de contactos')\n",
        "    print('0 - Terminar')\n",
        "    option = input('Introduzca el número de la opción deseada: ')\n",
        "    return option\n",
        "\n",
        "\n",
        "def directory():\n",
        "    archivo = 'contacto.txt' \n",
        "    while True:\n",
        "        option = menu()\n",
        "        if option == '1':\n",
        "            name = input('Digite el nombre del cliente: ')\n",
        "            print(telefono(archivo, name))\n",
        "        elif option == '2':\n",
        "            name = input('Digite el nombre del cliente: ')\n",
        "            telf = input('Digite el teléfono del cliente: ')\n",
        "            print(anadir_telefono(archivo, name, telf))\n",
        "        elif option == '3':\n",
        "            name = input('Digite el nombre del cliente: ')\n",
        "            print(remover_celular(archivo, name))\n",
        "        elif option == '4':\n",
        "            print(crear_directorio(archivo))\n",
        "        else:\n",
        "            break\n",
        "    return"
      ],
      "execution_count": 9,
      "outputs": []
    },
    {
      "cell_type": "code",
      "metadata": {
        "id": "kRL6ld2sd8L6"
      },
      "source": [
        "#4\n",
        "def decuento(pre, des):\n",
        "   \n",
        "    return pre - pre * des / 100\n",
        "    \n",
        "def iva(pre, porcen):\n",
        "    \n",
        "    return pre + pre * porcen / 100\n",
        "\n",
        "def real(bas, fun):\n",
        "    \n",
        "    total = 0\n",
        "    for pre, des in bas.items():\n",
        "        total += fun(pre, des)\n",
        "    return total\n",
        "\n",
        "print('el precio de la compra con el descuentos es: ', real({100:20, 5000:10, 1000:1}, decuento))\n",
        "print('el precio de la compra aplicar el IVA es: ', real({1087:20, 5980:10, 1980:1}, iva))"
      ],
      "execution_count": null,
      "outputs": []
    },
    {
      "cell_type": "code",
      "metadata": {
        "id": "u319DCp7fgTm"
      },
      "source": [
        "#5\n",
        "from math import sin, cos, tan, exp, log\n",
        "\n",
        "def funcion(f, n):\n",
        "    functions = {'sin':sin, 'cos':cos, 'tan':tan, 'exp':exp, 'log':log}\n",
        "    resultado = {}\n",
        "    for i in range(1, n+1):\n",
        "        resultado[i] = functions[f](i)\n",
        "    return resultado\n",
        "\n",
        "def calcu():\n",
        "    n = int(input('Digite un numero positivo: '))\n",
        "    f = input('aplique cualquier funcion (sin, cos, tan, exp, log): ')\n",
        "    for i, j in funcion(f, n).items():\n",
        "        print (i, '\\t', j)\n",
        "    return\n",
        "\n",
        "calcu()"
      ],
      "execution_count": null,
      "outputs": []
    },
    {
      "cell_type": "code",
      "metadata": {
        "id": "KCmQ2-hAfjqC"
      },
      "source": [
        "#6\n",
        "def funcion(punto):\n",
        "    \n",
        "    if punto < 5:\n",
        "        return 'SS'\n",
        "    elif punto < 7:\n",
        "        return 'AP'\n",
        "    elif punto < 9:\n",
        "        return 'NT'\n",
        "    elif punto < 10:\n",
        "        return 'SB'\n",
        "    else:\n",
        "        return 'MH'\n",
        "\n",
        "def apli(puntos):\n",
        "   \n",
        "    return list(map(funcion, puntos))"
      ],
      "execution_count": 10,
      "outputs": []
    },
    {
      "cell_type": "code",
      "metadata": {
        "id": "PDU0YYXLfk46"
      },
      "source": [
        "#7\n",
        "contraseña = input('Introduce la contraseña:')\n",
        "if contraseña in ['sesamo']:\n",
        "    print('Pasa')\n",
        "else:\n",
        "    print('No pasa')"
      ],
      "execution_count": null,
      "outputs": []
    },
    {
      "cell_type": "code",
      "metadata": {
        "id": "_nfOxJOofwHt"
      },
      "source": [
        "#8\n",
        "base = int(input('Introduce la base imponible de la factura: '))\n",
        "\n",
        "def funcion_iva(base, iva = 16):\n",
        "    base += base * iva / 100  \n",
        "    return base \n",
        "print(funcion_iva(base))"
      ],
      "execution_count": null,
      "outputs": []
    },
    {
      "cell_type": "code",
      "metadata": {
        "id": "Zw66w6xAfyyE"
      },
      "source": [
        "#9\n",
        "a = ((10, 26, 67),\n",
        "     (93, 82, 61))\n",
        "b = ((90, 45),\n",
        "     (31, 43),\n",
        "     (52, 65))\n",
        "\n",
        "def pro(a, b):\n",
        "    pro = []\n",
        "    for i in range(len(a)):\n",
        "        fila = [] \n",
        "        for j in range(len(b[0])):\n",
        "            suma = 0\n",
        "            for k in range(len(a[0])):\n",
        "                suma += a[i][k] * b[k][j]\n",
        "            fila.append(suma)\n",
        "        pro.append(tuple(fila))\n",
        "    return tuple(pro)\n",
        "\n",
        "print(pro(a, b))"
      ],
      "execution_count": null,
      "outputs": []
    },
    {
      "cell_type": "code",
      "metadata": {
        "id": "EspJ5v3Ef1mL"
      },
      "source": [
        "#10\n",
        "u = [1, 2, 3]\n",
        "v = [4, 5, 6]\n",
        "\n",
        "def producto_escalar(u, v):\n",
        "    for i in range(len(u)):\n",
        "        u[i] *= v[i]\n",
        "    return sum(u)\n",
        "\n",
        "print(producto_escalar(u, v))"
      ],
      "execution_count": null,
      "outputs": []
    }
  ]
}