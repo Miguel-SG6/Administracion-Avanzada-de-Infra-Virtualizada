{
  "nbformat": 4,
  "nbformat_minor": 0,
  "metadata": {
    "colab": {
      "name": "Untitled0.ipynb",
      "provenance": [],
      "authorship_tag": "ABX9TyMl2rv6K89yDqalkPFdLPEB",
      "include_colab_link": true
    },
    "kernelspec": {
      "name": "python3",
      "display_name": "Python 3"
    },
    "language_info": {
      "name": "python"
    }
  },
  "cells": [
    {
      "cell_type": "markdown",
      "metadata": {
        "id": "view-in-github",
        "colab_type": "text"
      },
      "source": [
        "<a href=\"https://colab.research.google.com/github/Miguel-SG6/Administracion-Avanzada-de-Infra-Virtualizada/blob/main/AID-P2-T2-Ejercicios%20en.ipynb\" target=\"_parent\"><img src=\"https://colab.research.google.com/assets/colab-badge.svg\" alt=\"Open In Colab\"/></a>"
      ]
    },
    {
      "cell_type": "code",
      "metadata": {
        "colab": {
          "base_uri": "https://localhost:8080/"
        },
        "id": "leKfLiSed1ZE",
        "outputId": "356c3cde-6f84-4ccb-b43b-d95487e2fae0"
      },
      "source": [
        "#Ejercicio 1\n",
        "#Escribir un programa que acceda a un fichero de internet mediante su url y muestre por pantalla el número de palabras que contiene.\n",
        "def fichero(url):\n",
        "    from urllib import request\n",
        "    from urllib.error import URLError\n",
        "    try:\n",
        "        archivo = request.urlopen(url)\n",
        "    except URLError:\n",
        "        return('Esta URL ' + url + ' No existe')\n",
        "    else:\n",
        "        contenido = archivo.read()\n",
        "        return len(contenido.split())\n",
        "\n",
        "print(fichero('https://www.gutenberg.org/files/2000/2000-0.txt'))\n",
        "print(fichero('https://no-existe.txt'))"
      ],
      "execution_count": 1,
      "outputs": [
        {
          "output_type": "stream",
          "text": [
            "389719\n",
            "Esta URL https://no-existe.txt No existe\n"
          ],
          "name": "stdout"
        }
      ]
    },
    {
      "cell_type": "code",
      "metadata": {
        "colab": {
          "base_uri": "https://localhost:8080/"
        },
        "id": "pn0Xp91deH6i",
        "outputId": "933a30f7-0c04-4d1b-e37e-295d59fd1683"
      },
      "source": [
        "#Ejercicio 2\n",
        "#Escribir un programa que abra el fichero con información sobre el PIB per cápita de los países de la Unión Europea \n",
        "#(url:https://ec.europa.eu/eurostat/estat-navtree-portlet-prod/BulkDownloadListing?file=data/sdg_08_10.tsv.gz&unzip=true), \n",
        "#pregunte por las iniciales de un país y muestre el PIB per cápita de ese país de todos los años disponibles.\n",
        "def pib(url, country='ES'):\n",
        "    from urllib import request\n",
        "    from urllib.error import URLError\n",
        "    try:\n",
        "        fuente = request.urlopen(url)\n",
        "    except URLError:\n",
        "        return('¡La url ' + url + ' no existe!')\n",
        "    else:\n",
        "        dato = fuente.read().decode('utf-8').split('\\n') # Leer los datos y guardar cada línea en una lista\n",
        "        dato = [i.split('\\t') for i in dato] # Dividir cada línea por el tabulador\n",
        "        dato = [list(map(str.strip, i)) for i in dato] # Eliminar espacios en blanco\n",
        "        for i in dato:\n",
        "            i[0] = i[0].split(',')[-1] # Obtener el código del país del primer elemento de la lista\n",
        "        dato[0][0] = 'years'\n",
        "        dato = {i[0]:i[1:] for i in dato}\n",
        "        resultado = {dato['years'][i]:dato[country][i] for i in range(len(dato['years']))}\n",
        "        return resultado\n",
        "\n",
        "country = input('Introduce el código de un país: ')\n",
        "print('Producto Interior Bruto per cápita de', country)\n",
        "print('Año', '\\t', 'PIB')\n",
        "for year, pib2 in pib('https://ec.europa.eu/eurostat/estat-navtree-portlet-prod/BulkDownloadListing?file=data/sdg_08_10.tsv.gz&unzip=true').items():\n",
        "    print(year, '\\t', pib2)"
      ],
      "execution_count": 2,
      "outputs": [
        {
          "output_type": "stream",
          "text": [
            "Introduce el código de un país: 65\n",
            "Producto Interior Bruto per cápita de 65\n",
            "Año \t PIB\n",
            "2000 \t 21460\n",
            "2001 \t 22190\n",
            "2002 \t 22430\n",
            "2003 \t 22680\n",
            "2004 \t 23020\n",
            "2005 \t 23420\n",
            "2006 \t 24000\n",
            "2007 \t 24380\n",
            "2008 \t 24200\n",
            "2009 \t 23100\n",
            "2010 \t 23040\n",
            "2011 \t 22770\n",
            "2012 \t 22080\n",
            "2013 \t 21840\n",
            "2014 \t 22210\n",
            "2015 \t 23080\n",
            "2016 \t 23760\n",
            "2017 \t 24430\n",
            "2018 \t 24910 p\n",
            "2019 \t 25200 p\n",
            "2020 \t 22350 p\n"
          ],
          "name": "stdout"
        }
      ]
    },
    {
      "cell_type": "code",
      "metadata": {
        "id": "Wo2PcEsPehYX"
      },
      "source": [
        "#Ejercicio 3\n",
        "#Escribir un programa para gestionar un listín telefónico con los nombres y los teléfonos de los clientes de una empresa. \n",
        "#El programa incorporarfunciones crear el fichero con el listín si no existe, para consultar el teléfono de un cliente, \n",
        "#añadir el teléfono de un nuevo cliente y eliminar el teléfono de un cliente. El listín debe estar guardado en el fichero de \n",
        "#texto listin.txtdonde el nombre del cliente y su teléfono deben aparecer separados por comas y cada cliente en una línea distinta.\n",
        "\n",
        "def telefono(archivo, cliente):\n",
        "\n",
        "    try: \n",
        "        f = open(archivo, 'r')\n",
        "    except FileNotFoundError:\n",
        "        return('Este es el fichero ' + archivo + ' no existe!\\n')\n",
        "    else:\n",
        "        directory = f.readlines()\n",
        "        f.close()\n",
        "        directory = dict([tuple(line.split(',')) for line in directory])\n",
        "        if cliente in directory:\n",
        "            return directory[cliente]\n",
        "        else:\n",
        "            return('¡el cliente es ' + cliente + ' no existe!\\n')\n",
        "\n",
        "\n",
        "def anadir_telefono(archivo, cliente, telfono):\n",
        "\n",
        "    try: \n",
        "        f = open(archivo, 'a')\n",
        "    except FileNotFoundError:\n",
        "        return('¡EL Fichero es ' + archivo + ' no existe!\\n')\n",
        "    else:\n",
        "        f.write(cliente + ',' + telfono + '\\n')\n",
        "        f.close()\n",
        "        return('ya tiene en sus contacto el telefono.\\n')\n",
        "\n",
        "def remover_cel(archivo, cliente):\n",
        "\n",
        "    try: \n",
        "        f = open(archivo, 'r')\n",
        "    except FileNotFoundError:\n",
        "        return('Es fichero ' + archivo + ' no existe!\\n')\n",
        "    else:\n",
        "        directory = f.readlines()\n",
        "        f.close()\n",
        "        directory = dict([tuple(line.split(',')) for line in directory])\n",
        "        if client in directory:\n",
        "            del directory[cliente]\n",
        "            f = open(archivo, 'w')\n",
        "            for name, telfono in directory.items():\n",
        "                f.write(name + ',' + telfono)\n",
        "            f.close()\n",
        "            return ('¡El cliente se ha borrado!\\n')\n",
        "        else:\n",
        "            return('¡Este contacto ' + cliente + ' no existe!\\n')\n",
        "\n",
        "\n",
        "def crear_directorio(archivo):\n",
        "\n",
        "    import os\n",
        "    if os.path.isfile(archivo):\n",
        "        answer = input('El fichero ' + archivo + ' ya existe. ¿Desea vaciarlo (S/N)? ')\n",
        "        if answer == 'N': \n",
        "            return 'No se ha creado el fichero porque ya existe.\\n'\n",
        "    f = open(archivo, 'w')\n",
        "    f.close()\n",
        "    return 'Se ha creado el fichero.\\n'\n",
        "     \n",
        "\n",
        "def menu():\n",
        "\n",
        "    print('Lista de Contactos')\n",
        "    print(\"\")\n",
        "    print('1 - Consultar un nombre y teléfono')\n",
        "    print('2 - Añadir un nombre y teléfono')\n",
        "    print('3 - Eliminar un nombre y teléfono')\n",
        "    print('4 - vaciar lista de contactos')\n",
        "    print('0 - Terminar')\n",
        "    option = input('Introduzca el número de la opción deseada: ')\n",
        "    return option\n",
        "\n",
        "\n",
        "def directory():\n",
        "    archivo = 'contacto.txt' \n",
        "    while True:\n",
        "        option = menu()\n",
        "        if option == '1':\n",
        "            name = input('Digite el nombre del cliente: ')\n",
        "            print(telefono(archivo, name))\n",
        "        elif option == '2':\n",
        "            name = input('Digite el nombre del cliente: ')\n",
        "            telf = input('Digite el teléfono del cliente: ')\n",
        "            print(anadir_telefono(archivo, name, telf))\n",
        "        elif option == '3':\n",
        "            name = input('Digite el nombre del cliente: ')\n",
        "            print(remover_celular(archivo, name))\n",
        "        elif option == '4':\n",
        "            print(crear_directorio(archivo))\n",
        "        else:\n",
        "            break\n",
        "    return"
      ],
      "execution_count": 9,
      "outputs": []
    },
    {
      "cell_type": "code",
      "metadata": {
        "colab": {
          "base_uri": "https://localhost:8080/"
        },
        "id": "kRL6ld2sd8L6",
        "outputId": "00ee0dff-6735-4c24-81fa-82f0de67df7b"
      },
      "source": [
        "#4\n",
        "def decuento(pre, des):\n",
        "   \n",
        "    return pre - pre * des / 100\n",
        "    \n",
        "def iva(pre, porcen):\n",
        "    \n",
        "    return pre + pre * porcen / 100\n",
        "\n",
        "def real(bas, fun):\n",
        "    \n",
        "    total = 0\n",
        "    for pre, des in bas.items():\n",
        "        total += fun(pre, des)\n",
        "    return total\n",
        "\n",
        "print('el precio de la compra con el descuentos es: ', real({100:20, 5000:10, 1000:1}, decuento))\n",
        "print('el precio de la compra aplicar el IVA es: ', real({1087:20, 5980:10, 1980:1}, iva))"
      ],
      "execution_count": 11,
      "outputs": [
        {
          "output_type": "stream",
          "text": [
            "el precio de la compra con el descuentos es:  5570.0\n",
            "el precio de la compra aplicar el IVA es:  9882.199999999999\n"
          ],
          "name": "stdout"
        }
      ]
    },
    {
      "cell_type": "code",
      "metadata": {
        "colab": {
          "base_uri": "https://localhost:8080/"
        },
        "id": "u319DCp7fgTm",
        "outputId": "dd705819-9b76-4a71-e489-5a31780bf3b3"
      },
      "source": [
        "#5\n",
        "from math import sin, cos, tan, exp, log\n",
        "\n",
        "def funcion(f, n):\n",
        "    functions = {'sin':sin, 'cos':cos, 'tan':tan, 'exp':exp, 'log':log}\n",
        "    resultado = {}\n",
        "    for i in range(1, n+1):\n",
        "        resultado[i] = functions[f](i)\n",
        "    return resultado\n",
        "\n",
        "def calcu():\n",
        "    n = int(input('Digite un numero positivo: '))\n",
        "    f = input('aplique cualquier funcion (sin, cos, tan, exp, log): ')\n",
        "    for i, j in funcion(f, n).items():\n",
        "        print (i, '\\t', j)\n",
        "    return\n",
        "\n",
        "calcu()"
      ],
      "execution_count": 12,
      "outputs": [
        {
          "output_type": "stream",
          "text": [
            "Digite un numero positivo: 70\n",
            "aplique cualquier funcion (sin, cos, tan, exp, log): tan\n",
            "1 \t 1.5574077246549023\n",
            "2 \t -2.185039863261519\n",
            "3 \t -0.1425465430742778\n",
            "4 \t 1.1578212823495775\n",
            "5 \t -3.380515006246586\n",
            "6 \t -0.29100619138474915\n",
            "7 \t 0.8714479827243188\n",
            "8 \t -6.799711455220379\n",
            "9 \t -0.45231565944180985\n",
            "10 \t 0.6483608274590866\n",
            "11 \t -225.95084645419513\n",
            "12 \t -0.6358599286615808\n",
            "13 \t 0.4630211329364896\n",
            "14 \t 7.2446066160948055\n",
            "15 \t -0.8559934009085187\n",
            "16 \t 0.3006322420239034\n",
            "17 \t 3.49391564547484\n",
            "18 \t -1.1373137123376869\n",
            "19 \t 0.15158947061240008\n",
            "20 \t 2.237160944224742\n",
            "21 \t -1.5274985276366035\n",
            "22 \t 0.00885165604168446\n",
            "23 \t 1.5881530833912738\n",
            "24 \t -2.1348966977217008\n",
            "25 \t -0.13352640702153587\n",
            "26 \t 1.1787535542062797\n",
            "27 \t -3.273703800428119\n",
            "28 \t -0.28142960456426525\n",
            "29 \t 0.8871428437982151\n",
            "30 \t -6.405331196646276\n",
            "31 \t -0.441695568020698\n",
            "32 \t 0.6610060414837631\n",
            "33 \t -75.31301480008509\n",
            "34 \t -0.6234989627162255\n",
            "35 \t 0.473814720414451\n",
            "36 \t 7.750470905699148\n",
            "37 \t -0.8407712554027597\n",
            "38 \t 0.310309660994801\n",
            "39 \t 3.614554407101535\n",
            "40 \t -1.117214930923896\n",
            "41 \t 0.16065669868064283\n",
            "42 \t 2.2913879924374863\n",
            "43 \t -1.4983873388551707\n",
            "44 \t 0.017704699278685777\n",
            "45 \t 1.6197751905438615\n",
            "46 \t -2.086613531121382\n",
            "47 \t -0.12452756813273719\n",
            "48 \t 1.2001272431162864\n",
            "49 \t -3.172908552159191\n",
            "50 \t -0.27190061199763077\n",
            "51 \t 0.9030861493754311\n",
            "52 \t -6.053272382792838\n",
            "53 \t -0.4311581967195641\n",
            "54 \t 0.6738001006480598\n",
            "55 \t -45.18308791052113\n",
            "56 \t -0.6112736881917098\n",
            "57 \t 0.48469922679209587\n",
            "58 \t 8.330856852490458\n",
            "59 \t -0.8257740091968151\n",
            "60 \t 0.320040389379563\n",
            "61 \t 3.7431679442724195\n",
            "62 \t -1.0975097786622852\n",
            "63 \t 0.16974975208268753\n",
            "64 \t 2.3478603091954366\n",
            "65 \t -1.4700382576631723\n",
            "66 \t 0.02656051777603939\n",
            "67 \t 1.6523172640102353\n",
            "68 \t -2.0400815980159464\n",
            "69 \t -0.11554854579453279\n",
            "70 \t 1.2219599181369434\n"
          ],
          "name": "stdout"
        }
      ]
    },
    {
      "cell_type": "code",
      "metadata": {
        "id": "KCmQ2-hAfjqC"
      },
      "source": [
        "#6\n",
        "def funcion(punto):\n",
        "    \n",
        "    if punto < 5:\n",
        "        return 'SS'\n",
        "    elif punto < 7:\n",
        "        return 'AP'\n",
        "    elif punto < 9:\n",
        "        return 'NT'\n",
        "    elif punto < 10:\n",
        "        return 'SB'\n",
        "    else:\n",
        "        return 'MH'\n",
        "\n",
        "def apli(puntos):\n",
        "   \n",
        "    return list(map(funcion, puntos))"
      ],
      "execution_count": 14,
      "outputs": []
    },
    {
      "cell_type": "code",
      "metadata": {
        "colab": {
          "base_uri": "https://localhost:8080/"
        },
        "id": "PDU0YYXLfk46",
        "outputId": "d8fbbe9d-9a20-458d-bc72-0afad8d42b4e"
      },
      "source": [
        "#7\n",
        "contraseña = input('Introduce la contraseña:')\n",
        "if contraseña in ['666']:\n",
        "    print('Pasa')\n",
        "else:\n",
        "    print('No pasa')"
      ],
      "execution_count": 16,
      "outputs": [
        {
          "output_type": "stream",
          "text": [
            "Introduce la contraseña:666\n",
            "Pasa\n"
          ],
          "name": "stdout"
        }
      ]
    },
    {
      "cell_type": "code",
      "metadata": {
        "colab": {
          "base_uri": "https://localhost:8080/"
        },
        "id": "_nfOxJOofwHt",
        "outputId": "1a1532d4-a1a6-4539-9013-aecf480905b8"
      },
      "source": [
        "#8\n",
        "base = int(input('Introduce la base imponible de la factura: '))\n",
        "\n",
        "def funcion_iva(base, iva = 16):\n",
        "    base += base * iva / 100  \n",
        "    return base \n",
        "print(funcion_iva(base))"
      ],
      "execution_count": 17,
      "outputs": [
        {
          "output_type": "stream",
          "text": [
            "Introduce la base imponible de la factura: 69\n",
            "80.03999999999999\n"
          ],
          "name": "stdout"
        }
      ]
    },
    {
      "cell_type": "code",
      "metadata": {
        "colab": {
          "base_uri": "https://localhost:8080/"
        },
        "id": "Zw66w6xAfyyE",
        "outputId": "d90fd116-5904-45fd-e551-80839e83dfb5"
      },
      "source": [
        "#9\n",
        "a = ((10, 26, 67),\n",
        "     (93, 82, 61))\n",
        "b = ((90, 45),\n",
        "     (31, 43),\n",
        "     (52, 65))\n",
        "\n",
        "def pro(a, b):\n",
        "    pro = []\n",
        "    for i in range(len(a)):\n",
        "        fila = [] \n",
        "        for j in range(len(b[0])):\n",
        "            suma = 0\n",
        "            for k in range(len(a[0])):\n",
        "                suma += a[i][k] * b[k][j]\n",
        "            fila.append(suma)\n",
        "        pro.append(tuple(fila))\n",
        "    return tuple(pro)\n",
        "\n",
        "print(pro(a, b))"
      ],
      "execution_count": 18,
      "outputs": [
        {
          "output_type": "stream",
          "text": [
            "((5190, 5923), (14084, 11676))\n"
          ],
          "name": "stdout"
        }
      ]
    },
    {
      "cell_type": "code",
      "metadata": {
        "colab": {
          "base_uri": "https://localhost:8080/"
        },
        "id": "EspJ5v3Ef1mL",
        "outputId": "bca33f04-e823-4115-9c95-8da70220f041"
      },
      "source": [
        "#10\n",
        "u = [1, 2, 3]\n",
        "v = [4, 5, 6]\n",
        "\n",
        "def producto_escalar(u, v):\n",
        "    for i in range(len(u)):\n",
        "        u[i] *= v[i]\n",
        "    return sum(u)\n",
        "\n",
        "print(producto_escalar(u, v))"
      ],
      "execution_count": 19,
      "outputs": [
        {
          "output_type": "stream",
          "text": [
            "32\n"
          ],
          "name": "stdout"
        }
      ]
    }
  ]
}