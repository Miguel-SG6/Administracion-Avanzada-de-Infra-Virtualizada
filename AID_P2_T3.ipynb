{
  "nbformat": 4,
  "nbformat_minor": 0,
  "metadata": {
    "colab": {
      "name": "AID-P2-T3.ipynb",
      "provenance": [],
      "authorship_tag": "ABX9TyPloA7uZ3GBvIcy1KSo+G/q",
      "include_colab_link": true
    },
    "kernelspec": {
      "name": "python3",
      "display_name": "Python 3"
    },
    "language_info": {
      "name": "python"
    }
  },
  "cells": [
    {
      "cell_type": "markdown",
      "metadata": {
        "id": "view-in-github",
        "colab_type": "text"
      },
      "source": [
        "<a href=\"https://colab.research.google.com/github/Miguel-SG6/Administracion-Avanzada-de-Infra-Virtualizada/blob/main/AID_P2_T3.ipynb\" target=\"_parent\"><img src=\"https://colab.research.google.com/assets/colab-badge.svg\" alt=\"Open In Colab\"/></a>"
      ]
    },
    {
      "cell_type": "markdown",
      "metadata": {
        "id": "iVj6UjyLfBHV"
      },
      "source": [
        "EJERCICIO 1"
      ]
    },
    {
      "cell_type": "code",
      "metadata": {
        "colab": {
          "base_uri": "https://localhost:8080/"
        },
        "id": "Ox6BGwd3fEZL",
        "outputId": "a53105ee-f614-47fb-f2b4-c457b565a384"
      },
      "source": [
        "import pandas as pd\n",
        "\n",
        "ini = int(input('Introduce el año inicial: '))\n",
        "fin = int(input('Introduce el año final: '))\n",
        "ventas = {}\n",
        "for i in range(ini, fin+1):\n",
        "    ventas[i] = float(input('Introduce las ventas del año ' + str(i) +': '))\n",
        "ventas = pd.Series(ventas)\n",
        "print('Ventas\\n', ventas)\n",
        "print('Ventas con descuento\\n', ventas*0.9)"
      ],
      "execution_count": 2,
      "outputs": [
        {
          "output_type": "stream",
          "text": [
            "Introduce el año inicial: 2019\n",
            "Introduce el año final: 2020\n",
            "Introduce las ventas del año 2019: 300\n",
            "Introduce las ventas del año 2020: 256\n",
            "Ventas\n",
            " 2019    300.0\n",
            "2020    256.0\n",
            "dtype: float64\n",
            "Ventas con descuento\n",
            " 2019    270.0\n",
            "2020    230.4\n",
            "dtype: float64\n"
          ],
          "name": "stdout"
        }
      ]
    },
    {
      "cell_type": "markdown",
      "metadata": {
        "id": "oZjdzWA-fJri"
      },
      "source": [
        "EJERCICIO 2"
      ]
    },
    {
      "cell_type": "code",
      "metadata": {
        "colab": {
          "base_uri": "https://localhost:8080/"
        },
        "id": "_D-8Vs49fbgU",
        "outputId": "8206cdcb-4327-4d7c-9071-8e2cfe1c4129"
      },
      "source": [
        "import pandas as pd\n",
        "\n",
        "def estad_calificaciones(calif):\n",
        "    calif = pd.Series(calif)\n",
        "    estadistica = pd.Series([calif.min(), calif.max(), calif.mean(), calif.std()], index=['Minima', 'Maxima', 'Media', 'Desviación típica'])\n",
        "    return estadistica\n",
        "\n",
        "calif = {'PAQUITO':5.1, 'JUANITO':9.5, 'PANFILO':7, 'CARLOS': 8.5, 'ANGELITO': 6}\n",
        "print(estad_calificaciones(calif))"
      ],
      "execution_count": 3,
      "outputs": [
        {
          "output_type": "stream",
          "text": [
            "Minima               5.1000\n",
            "Maxima               9.5000\n",
            "Media                7.2200\n",
            "Desviación típica    1.7936\n",
            "dtype: float64\n"
          ],
          "name": "stdout"
        }
      ]
    },
    {
      "cell_type": "markdown",
      "metadata": {
        "id": "wWoj3Ta0fvVb"
      },
      "source": [
        "EJERCICIO 3"
      ]
    },
    {
      "cell_type": "code",
      "metadata": {
        "colab": {
          "base_uri": "https://localhost:8080/"
        },
        "id": "N6vwmm3FfxaL",
        "outputId": "3fa4bf3d-b675-44ef-da65-293c602547cb"
      },
      "source": [
        "import pandas as pd\n",
        "\n",
        "def alum_aprobados(calif):\n",
        "    calif = pd.Series(calif)\n",
        "    return calif[calif >= 5].sort_values(ascending=False)\n",
        "\n",
        "calif = {'PAQUITO':5.1, 'JUANITO':9.5, 'PANFILO':7, 'CARLOS': 8.5, 'ANGELITO': 6}\n",
        "print(alum_aprobados(calif))"
      ],
      "execution_count": 4,
      "outputs": [
        {
          "output_type": "stream",
          "text": [
            "JUANITO     9.5\n",
            "CARLOS      8.5\n",
            "PANFILO     7.0\n",
            "ANGELITO    6.0\n",
            "PAQUITO     5.1\n",
            "dtype: float64\n"
          ],
          "name": "stdout"
        }
      ]
    },
    {
      "cell_type": "markdown",
      "metadata": {
        "id": "gCSINl-ef_6l"
      },
      "source": [
        "EJERCICIO 4"
      ]
    },
    {
      "cell_type": "code",
      "metadata": {
        "colab": {
          "base_uri": "https://localhost:8080/"
        },
        "id": "mh6-CIKXgCSN",
        "outputId": "d931c8c1-69c6-4da5-ad59-f12f838dd27c"
      },
      "source": [
        "import pandas as pd\n",
        "\n",
        "datos = [['Enero', 30500, 22000], ['Febrero', 35600, 23400], ['Marzo', 28300, 18100], ['Abril', 33900,20700]]\n",
        "contabilidad = pd.DataFrame(datos, columns=['Mes', 'Ventas', 'Gastos'])\n",
        "print(contabilidad)"
      ],
      "execution_count": 5,
      "outputs": [
        {
          "output_type": "stream",
          "text": [
            "       Mes  Ventas  Gastos\n",
            "0    Enero   30500   22000\n",
            "1  Febrero   35600   23400\n",
            "2    Marzo   28300   18100\n",
            "3    Abril   33900   20700\n"
          ],
          "name": "stdout"
        }
      ]
    },
    {
      "cell_type": "markdown",
      "metadata": {
        "id": "2Y9yRZ6vgGPE"
      },
      "source": [
        "EJERCICIO 5"
      ]
    },
    {
      "cell_type": "code",
      "metadata": {
        "colab": {
          "base_uri": "https://localhost:8080/",
          "height": 142
        },
        "id": "Kqkh8uO9gHz1",
        "outputId": "9005a982-2f69-41d3-be6f-61152dc17fb4"
      },
      "source": [
        "import pandas as pd\n",
        "\n",
        "def url (fichero):\n",
        "    df = pd.read_csv(fichero, sep=';', decimal=',', thousands='.', index_col=0)\n",
        "    return pd.DataFrame([df.min(), df.max(), df.mean()], index=['Mínimo', 'Máximo', 'Media'])\n",
        "url('https://raw.githubusercontent.com/Miguel-SG6/EJERCICIOS/main/cotizacion.csv')"
      ],
      "execution_count": 10,
      "outputs": [
        {
          "output_type": "execute_result",
          "data": {
            "text/html": [
              "<div>\n",
              "<style scoped>\n",
              "    .dataframe tbody tr th:only-of-type {\n",
              "        vertical-align: middle;\n",
              "    }\n",
              "\n",
              "    .dataframe tbody tr th {\n",
              "        vertical-align: top;\n",
              "    }\n",
              "\n",
              "    .dataframe thead th {\n",
              "        text-align: right;\n",
              "    }\n",
              "</style>\n",
              "<table border=\"1\" class=\"dataframe\">\n",
              "  <thead>\n",
              "    <tr style=\"text-align: right;\">\n",
              "      <th></th>\n",
              "      <th>Final</th>\n",
              "      <th>Máximo</th>\n",
              "      <th>Mínimo</th>\n",
              "      <th>Volumen</th>\n",
              "      <th>Efectivo</th>\n",
              "    </tr>\n",
              "  </thead>\n",
              "  <tbody>\n",
              "    <tr>\n",
              "      <th>Mínimo</th>\n",
              "      <td>1.016500</td>\n",
              "      <td>4.067500</td>\n",
              "      <td>1.016500</td>\n",
              "      <td>1.221000e+03</td>\n",
              "      <td>2343.090</td>\n",
              "    </tr>\n",
              "    <tr>\n",
              "      <th>Máximo</th>\n",
              "      <td>19705.000000</td>\n",
              "      <td>19875.000000</td>\n",
              "      <td>19675.000000</td>\n",
              "      <td>3.612969e+07</td>\n",
              "      <td>145765.440</td>\n",
              "    </tr>\n",
              "    <tr>\n",
              "      <th>Media</th>\n",
              "      <td>2796.768757</td>\n",
              "      <td>3170.113357</td>\n",
              "      <td>3136.510471</td>\n",
              "      <td>4.252279e+06</td>\n",
              "      <td>31767.778</td>\n",
              "    </tr>\n",
              "  </tbody>\n",
              "</table>\n",
              "</div>"
            ],
            "text/plain": [
              "               Final        Máximo        Mínimo       Volumen    Efectivo\n",
              "Mínimo      1.016500      4.067500      1.016500  1.221000e+03    2343.090\n",
              "Máximo  19705.000000  19875.000000  19675.000000  3.612969e+07  145765.440\n",
              "Media    2796.768757   3170.113357   3136.510471  4.252279e+06   31767.778"
            ]
          },
          "metadata": {
            "tags": []
          },
          "execution_count": 10
        }
      ]
    }
  ]
}